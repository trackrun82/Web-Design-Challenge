{
 "cells": [
  {
   "cell_type": "code",
   "execution_count": 2,
   "metadata": {},
   "outputs": [],
   "source": [
    "# Dependencies\n",
    "import pandas as pd\n",
    "import numpy as np\n",
    "import os"
   ]
  },
  {
   "cell_type": "code",
   "execution_count": 3,
   "metadata": {},
   "outputs": [],
   "source": [
    "# Load in File from resources\n",
    "# 'cities.csv'\n",
    "file = os.path.join(\"cities.csv\")"
   ]
  },
  {
   "cell_type": "code",
   "execution_count": 4,
   "metadata": {},
   "outputs": [
    {
     "data": {
      "text/html": [
       "<div>\n",
       "<style scoped>\n",
       "    .dataframe tbody tr th:only-of-type {\n",
       "        vertical-align: middle;\n",
       "    }\n",
       "\n",
       "    .dataframe tbody tr th {\n",
       "        vertical-align: top;\n",
       "    }\n",
       "\n",
       "    .dataframe thead th {\n",
       "        text-align: right;\n",
       "    }\n",
       "</style>\n",
       "<table border=\"1\" class=\"dataframe\">\n",
       "  <thead>\n",
       "    <tr style=\"text-align: right;\">\n",
       "      <th></th>\n",
       "      <th>City_ID</th>\n",
       "      <th>City</th>\n",
       "      <th>Lat</th>\n",
       "      <th>Long</th>\n",
       "      <th>Max Temp</th>\n",
       "      <th>Humidity</th>\n",
       "      <th>Cloudiness</th>\n",
       "      <th>Wind Speed</th>\n",
       "      <th>Country</th>\n",
       "      <th>Date</th>\n",
       "    </tr>\n",
       "  </thead>\n",
       "  <tbody>\n",
       "    <tr>\n",
       "      <th>0</th>\n",
       "      <td>0</td>\n",
       "      <td>Kaoma</td>\n",
       "      <td>-14.78</td>\n",
       "      <td>24.80</td>\n",
       "      <td>60.71</td>\n",
       "      <td>48</td>\n",
       "      <td>0</td>\n",
       "      <td>10.85</td>\n",
       "      <td>ZM</td>\n",
       "      <td>1592461893</td>\n",
       "    </tr>\n",
       "    <tr>\n",
       "      <th>1</th>\n",
       "      <td>1</td>\n",
       "      <td>Sochi</td>\n",
       "      <td>43.60</td>\n",
       "      <td>39.73</td>\n",
       "      <td>78.80</td>\n",
       "      <td>69</td>\n",
       "      <td>20</td>\n",
       "      <td>2.24</td>\n",
       "      <td>RU</td>\n",
       "      <td>1592461730</td>\n",
       "    </tr>\n",
       "    <tr>\n",
       "      <th>2</th>\n",
       "      <td>2</td>\n",
       "      <td>Sibolga</td>\n",
       "      <td>1.74</td>\n",
       "      <td>98.78</td>\n",
       "      <td>79.39</td>\n",
       "      <td>76</td>\n",
       "      <td>100</td>\n",
       "      <td>6.24</td>\n",
       "      <td>ID</td>\n",
       "      <td>1592461893</td>\n",
       "    </tr>\n",
       "    <tr>\n",
       "      <th>3</th>\n",
       "      <td>3</td>\n",
       "      <td>Puerto Ayora</td>\n",
       "      <td>-0.74</td>\n",
       "      <td>-90.35</td>\n",
       "      <td>66.99</td>\n",
       "      <td>94</td>\n",
       "      <td>14</td>\n",
       "      <td>8.59</td>\n",
       "      <td>EC</td>\n",
       "      <td>1592461888</td>\n",
       "    </tr>\n",
       "    <tr>\n",
       "      <th>4</th>\n",
       "      <td>4</td>\n",
       "      <td>Lorengau</td>\n",
       "      <td>-2.02</td>\n",
       "      <td>147.27</td>\n",
       "      <td>84.74</td>\n",
       "      <td>75</td>\n",
       "      <td>0</td>\n",
       "      <td>11.16</td>\n",
       "      <td>PG</td>\n",
       "      <td>1592461893</td>\n",
       "    </tr>\n",
       "  </tbody>\n",
       "</table>\n",
       "</div>"
      ],
      "text/plain": [
       "   City_ID          City    Lat    Long  Max Temp  Humidity  Cloudiness  \\\n",
       "0        0         Kaoma -14.78   24.80     60.71        48           0   \n",
       "1        1         Sochi  43.60   39.73     78.80        69          20   \n",
       "2        2       Sibolga   1.74   98.78     79.39        76         100   \n",
       "3        3  Puerto Ayora  -0.74  -90.35     66.99        94          14   \n",
       "4        4      Lorengau  -2.02  147.27     84.74        75           0   \n",
       "\n",
       "   Wind Speed Country        Date  \n",
       "0       10.85      ZM  1592461893  \n",
       "1        2.24      RU  1592461730  \n",
       "2        6.24      ID  1592461893  \n",
       "3        8.59      EC  1592461888  \n",
       "4       11.16      PG  1592461893  "
      ]
     },
     "execution_count": 4,
     "metadata": {},
     "output_type": "execute_result"
    }
   ],
   "source": [
    "# Read and display with pandas\n",
    "original_df = pd.read_csv(file)\n",
    "original_df.head()"
   ]
  },
  {
   "cell_type": "code",
   "execution_count": 7,
   "metadata": {},
   "outputs": [],
   "source": [
    "# Convert to HTML and export\n",
    "original_df.to_html(\"cities.html\", index=False)"
   ]
  },
  {
   "cell_type": "code",
   "execution_count": null,
   "metadata": {},
   "outputs": [],
   "source": []
  }
 ],
 "metadata": {
  "anaconda-cloud": {},
  "kernel_info": {
   "name": "python3"
  },
  "kernelspec": {
   "display_name": "Python [conda env:PythonData] *",
   "language": "python",
   "name": "conda-env-PythonData-py"
  },
  "language_info": {
   "codemirror_mode": {
    "name": "ipython",
    "version": 3
   },
   "file_extension": ".py",
   "mimetype": "text/x-python",
   "name": "python",
   "nbconvert_exporter": "python",
   "pygments_lexer": "ipython3",
   "version": "3.8.3"
  },
  "nteract": {
   "version": "0.2.0"
  }
 },
 "nbformat": 4,
 "nbformat_minor": 2
}
